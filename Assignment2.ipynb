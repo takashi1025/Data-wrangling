{
 "cells": [
  {
   "cell_type": "code",
   "execution_count": 2,
   "metadata": {},
   "outputs": [
    {
     "name": "stdout",
     "output_type": "stream",
     "text": [
      "Requirement already satisfied: pandas in c:\\users\\taka\\anaconda3\\lib\\site-packages (1.0.1)\n",
      "Collecting as\n",
      "  Downloading as-0.1-py3-none-any.whl (2.2 kB)\n",
      "Collecting pd\n",
      "  Downloading pd-0.0.1.tar.gz (5.3 kB)\n",
      "Requirement already satisfied: numpy>=1.13.3 in c:\\users\\taka\\anaconda3\\lib\\site-packages (from pandas) (1.18.1)\n",
      "Requirement already satisfied: pytz>=2017.2 in c:\\users\\taka\\anaconda3\\lib\\site-packages (from pandas) (2019.3)\n",
      "Requirement already satisfied: python-dateutil>=2.6.1 in c:\\users\\taka\\anaconda3\\lib\\site-packages (from pandas) (2.8.1)\n",
      "Requirement already satisfied: six>=1.5 in c:\\users\\taka\\anaconda3\\lib\\site-packages (from python-dateutil>=2.6.1->pandas) (1.14.0)\n",
      "Building wheels for collected packages: pd\n",
      "  Building wheel for pd (setup.py): started\n",
      "  Building wheel for pd (setup.py): finished with status 'done'\n",
      "  Created wheel for pd: filename=pd-0.0.1-py3-none-any.whl size=6511 sha256=42328be0045a912eb5532102f2687fc89aa3d36abab9fed1f04968bc0267aa5d\n",
      "  Stored in directory: c:\\users\\taka\\appdata\\local\\pip\\cache\\wheels\\c0\\45\\39\\f9063988f991ef39fdbe4e5f2c0e9085e3e0ab0465602e33da\n",
      "Successfully built pd\n",
      "Installing collected packages: as, pd\n",
      "Successfully installed as-0.1 pd-0.0.1\n"
     ]
    }
   ],
   "source": [
    "!pip install pandas as pd"
   ]
  },
  {
   "cell_type": "code",
   "execution_count": 11,
   "metadata": {},
   "outputs": [],
   "source": [
    "import pandas as pd\n",
    "import numpy as np"
   ]
  },
  {
   "cell_type": "code",
   "execution_count": 12,
   "metadata": {},
   "outputs": [],
   "source": [
    "pd.set_option('display.max_rows',300)"
   ]
  },
  {
   "cell_type": "code",
   "execution_count": 13,
   "metadata": {},
   "outputs": [
    {
     "ename": "SyntaxError",
     "evalue": "unexpected character after line continuation character (<ipython-input-13-e9e884567138>, line 1)",
     "output_type": "error",
     "traceback": [
      "\u001b[1;36m  File \u001b[1;32m\"<ipython-input-13-e9e884567138>\"\u001b[1;36m, line \u001b[1;32m1\u001b[0m\n\u001b[1;33m    res = TP_df.groupby([\\\"job\\\",\\\"category\\\"]).count()\u001b[0m\n\u001b[1;37m                                                       ^\u001b[0m\n\u001b[1;31mSyntaxError\u001b[0m\u001b[1;31m:\u001b[0m unexpected character after line continuation character\n"
     ]
    }
   ],
   "source": [
    "res = TP_df.groupby([\\\"job\\\",\\\"category\\\"]).count()"
   ]
  },
  {
   "cell_type": "code",
   "execution_count": 14,
   "metadata": {},
   "outputs": [
    {
     "ename": "SyntaxError",
     "evalue": "unexpected character after line continuation character (<ipython-input-14-6f710f08cdac>, line 1)",
     "output_type": "error",
     "traceback": [
      "\u001b[1;36m  File \u001b[1;32m\"<ipython-input-14-6f710f08cdac>\"\u001b[1;36m, line \u001b[1;32m1\u001b[0m\n\u001b[1;33m    TP_df[\\\"job_cate\\\"] = list(zip(TP_df.job,TP_df.category))\u001b[0m\n\u001b[1;37m                                                             ^\u001b[0m\n\u001b[1;31mSyntaxError\u001b[0m\u001b[1;31m:\u001b[0m unexpected character after line continuation character\n"
     ]
    }
   ],
   "source": [
    "TP_df[\\\"job_cate\\\"] = list(zip(TP_df.job,TP_df.category))"
   ]
  },
  {
   "cell_type": "code",
   "execution_count": 15,
   "metadata": {},
   "outputs": [
    {
     "ename": "SyntaxError",
     "evalue": "unexpected character after line continuation character (<ipython-input-15-753f72c8c060>, line 1)",
     "output_type": "error",
     "traceback": [
      "\u001b[1;36m  File \u001b[1;32m\"<ipython-input-15-753f72c8c060>\"\u001b[1;36m, line \u001b[1;32m1\u001b[0m\n\u001b[1;33m    res = TP_df[\\\"job_cate\\\"].value_counts()\u001b[0m\n\u001b[1;37m                                            ^\u001b[0m\n\u001b[1;31mSyntaxError\u001b[0m\u001b[1;31m:\u001b[0m unexpected character after line continuation character\n"
     ]
    }
   ],
   "source": [
    "res = TP_df[\\\"job_cate\\\"].value_counts()"
   ]
  },
  {
   "cell_type": "code",
   "execution_count": null,
   "metadata": {},
   "outputs": [],
   "source": []
  }
 ],
 "metadata": {
  "kernelspec": {
   "display_name": "Python 3",
   "language": "python",
   "name": "python3"
  },
  "language_info": {
   "codemirror_mode": {
    "name": "ipython",
    "version": 3
   },
   "file_extension": ".py",
   "mimetype": "text/x-python",
   "name": "python",
   "nbconvert_exporter": "python",
   "pygments_lexer": "ipython3",
   "version": "3.7.6"
  }
 },
 "nbformat": 4,
 "nbformat_minor": 4
}
